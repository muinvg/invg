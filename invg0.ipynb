     "cell_type": "heading",
     "cell_type": "code",
     "metadata": {},
     "outputs": [],
     "prompt_number": 21
    },

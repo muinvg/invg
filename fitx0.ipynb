{
 "metadata": {
  "name": "fitx0"
 },
 "nbformat": 3,
 "nbformat_minor": 0,
 "worksheets": [
  {
   "cells": [
    {
     "cell_type": "code",
     "collapsed": false,
     "input": "import numpy as np\nimport pymc3 as pm\nimport pandas as pd\nimport matplotlib.pyplot as plt\n%matplotlib inline",
     "language": "python",
     "metadata": {},
     "outputs": [],
     "prompt_number": 17
    },
    {
     "cell_type": "code",
     "collapsed": false,
     "input": "x1 = np.random.uniform(low=-1,high=1,size=20)\nx2 = np.random.uniform(low=-1,high=1,size=20)\n\ny1 = 0.5*x1\ny2 = 2.0*x2\n\nx = np.r_[x1,x2]\ny = np.r_[y1,y2]\n\nN = x.size",
     "language": "python",
     "metadata": {},
     "outputs": [],
     "prompt_number": 30
    },
    {
     "cell_type": "code",
     "collapsed": false,
     "input": "plt.plot(x,y,'o')",
     "language": "python",
     "metadata": {},
     "outputs": [
      {
       "metadata": {},
       "output_type": "pyout",
       "prompt_number": 19,
       "text": "[<matplotlib.lines.Line2D at 0x1157ed30>]"
      },
      {
       "metadata": {},
       "output_type": "display_data",
       "png": "[encoded data removed]",
       "text": "<matplotlib.figure.Figure at 0x11322c50>"
      }
     ],
     "prompt_number": 19
    },
    {
     "cell_type": "code",
     "collapsed": false,
     "input": "\n# \uff12\uff0e\u7d71\u8a08\u30e2\u30c7\u30eb\u306e\u8a18\u8ff0\nmymodel2 = pm.Model()\n\nwith mymodel2:  # model definition\n    a = pm.Normal('a', mu=0, sd=32, shape=N)   # N-dim array\n    s = pm.Uniform('s', lower=0, upper=100)   # 1-dim array\n    yobs = pm.Normal('yobs', mu=a*x, sd=s, observed=y)\n\n# \uff13\uff0eMCMC\u8a08\u7b97\nwith mymodel2:  # running simulation\n    start = pm.find_MAP()\n    step = pm.NUTS()\n    trace1 = pm.sample(1000, step, start=start)\n\n# \uff14\uff0e\u8a08\u7b97\u7d50\u679c\u51fa\u529b ... summary\u3068traceplot\npm.summary(trace1)\n",
     "language": "python",
     "metadata": {},
     "outputs": [
      {
       "output_type": "stream",
       "stream": "stdout",
       "text": "\r [-                 3%                  ] 31 of 1000 complete in 1.6 sec"
      },
      {
       "output_type": "stream",
       "stream": "stdout",
       "text": "\r [-                 4%                  ] 43 of 1000 complete in 9.1 sec"
      },
      {
       "output_type": "stream",
       "stream": "stdout",
       "text": "\r [-                 4%                  ] 46 of 1000 complete in 12.7 sec"
      },
      {
       "output_type": "stream",
       "stream": "stdout",
       "text": "\r [--                7%                  ] 73 of 1000 complete in 13.3 sec"
      },
      {
       "output_type": "stream",
       "stream": "stdout",
       "text": "\r [---               8%                  ] 85 of 1000 complete in 13.8 sec"
      },
      {
       "output_type": "stream",
       "stream": "stdout",
       "text": "\r [---               9%                  ] 99 of 1000 complete in 14.4 sec"
      },
      {
       "output_type": "stream",
       "stream": "stdout",
       "text": "\r [----             11%                  ] 119 of 1000 complete in 14.9 sec"
      },
      {
       "output_type": "stream",
       "stream": "stdout",
       "text": "\r [----             12%                  ] 121 of 1000 complete in 16.6 sec"
      },
      {
       "output_type": "stream",
       "stream": "stdout",
       "text": "\r [-----            14%                  ] 148 of 1000 complete in 17.1 sec"
      },
      {
       "output_type": "stream",
       "stream": "stdout",
       "text": "\r [------           17%                  ] 174 of 1000 complete in 17.7 sec"
      },
      {
       "output_type": "stream",
       "stream": "stdout",
       "text": "\r [-------          19%                  ] 190 of 1000 complete in 18.2 sec"
      },
      {
       "output_type": "stream",
       "stream": "stdout",
       "text": "\r [-------          20%                  ] 207 of 1000 complete in 18.7 sec"
      },
      {
       "output_type": "stream",
       "stream": "stdout",
       "text": "\r [--------         21%                  ] 216 of 1000 complete in 19.9 sec"
      },
      {
       "output_type": "stream",
       "stream": "stdout",
       "text": "\r [--------         22%                  ] 223 of 1000 complete in 24.2 sec"
      },
      {
       "output_type": "stream",
       "stream": "stdout",
       "text": "\r [--------         22%                  ] 225 of 1000 complete in 25.6 sec"
      },
      {
       "output_type": "stream",
       "stream": "stdout",
       "text": "\r [--------         23%                  ] 235 of 1000 complete in 29.2 sec"
      },
      {
       "output_type": "stream",
       "stream": "stdout",
       "text": "\r [---------        25%                  ] 251 of 1000 complete in 29.8 sec"
      },
      {
       "output_type": "stream",
       "stream": "stdout",
       "text": "\r [----------       26%                  ] 264 of 1000 complete in 30.5 sec"
      },
      {
       "output_type": "stream",
       "stream": "stdout",
       "text": "\r [----------       27%                  ] 270 of 1000 complete in 42.6 sec"
      },
      {
       "output_type": "stream",
       "stream": "stdout",
       "text": "\r [----------       27%                  ] 275 of 1000 complete in 45.2 sec"
      },
      {
       "output_type": "stream",
       "stream": "stdout",
       "text": "\r [-----------      30%                  ] 302 of 1000 complete in 45.7 sec"
      },
      {
       "output_type": "stream",
       "stream": "stdout",
       "text": "\r [------------     31%                  ] 319 of 1000 complete in 46.3 sec"
      },
      {
       "output_type": "stream",
       "stream": "stdout",
       "text": "\r [------------     33%                  ] 333 of 1000 complete in 46.8 sec"
      },
      {
       "output_type": "stream",
       "stream": "stdout",
       "text": "\r [-------------    34%                  ] 348 of 1000 complete in 47.4 sec"
      },
      {
       "output_type": "stream",
       "stream": "stdout",
       "text": "\r [-------------    35%                  ] 359 of 1000 complete in 48.0 sec"
      },
      {
       "output_type": "stream",
       "stream": "stdout",
       "text": "\r [--------------   37%                  ] 377 of 1000 complete in 48.5 sec"
      },
      {
       "output_type": "stream",
       "stream": "stdout",
       "text": "\r [--------------   38%                  ] 388 of 1000 complete in 49.0 sec"
      },
      {
       "output_type": "stream",
       "stream": "stdout",
       "text": "\r [---------------  39%                  ] 399 of 1000 complete in 55.1 sec"
      },
      {
       "output_type": "stream",
       "stream": "stdout",
       "text": "\r [---------------  41%                  ] 414 of 1000 complete in 57.0 sec"
      },
      {
       "output_type": "stream",
       "stream": "stdout",
       "text": "\r [---------------- 43%                  ] 436 of 1000 complete in 57.5 sec"
      },
      {
       "output_type": "stream",
       "stream": "stdout",
       "text": "\r [-----------------45%                  ] 450 of 1000 complete in 58.0 sec"
      },
      {
       "output_type": "stream",
       "stream": "stdout",
       "text": "\r [-----------------46%                  ] 461 of 1000 complete in 60.0 sec"
      },
      {
       "output_type": "stream",
       "stream": "stdout",
       "text": "\r [-----------------46%                  ] 469 of 1000 complete in 61.5 sec"
      },
      {
       "output_type": "stream",
       "stream": "stdout",
       "text": "\r [-----------------47%                  ] 479 of 1000 complete in 62.0 sec"
      },
      {
       "output_type": "stream",
       "stream": "stdout",
       "text": "\r [-----------------49%                  ] 497 of 1000 complete in 62.6 sec"
      },
      {
       "output_type": "stream",
       "stream": "stdout",
       "text": "\r [-----------------50%                  ] 508 of 1000 complete in 63.7 sec"
      },
      {
       "output_type": "stream",
       "stream": "stdout",
       "text": "\r [-----------------52%                  ] 522 of 1000 complete in 64.2 sec"
      },
      {
       "output_type": "stream",
       "stream": "stdout",
       "text": "\r [-----------------52%                  ] 524 of 1000 complete in 65.3 sec"
      },
      {
       "output_type": "stream",
       "stream": "stdout",
       "text": "\r [-----------------53%                  ] 531 of 1000 complete in 66.2 sec"
      },
      {
       "output_type": "stream",
       "stream": "stdout",
       "text": "\r [-----------------55%                  ] 550 of 1000 complete in 67.3 sec"
      },
      {
       "output_type": "stream",
       "stream": "stdout",
       "text": "\r [-----------------55%                  ] 551 of 1000 complete in 68.0 sec"
      },
      {
       "output_type": "stream",
       "stream": "stdout",
       "text": "\r [-----------------55%-                 ] 558 of 1000 complete in 68.7 sec"
      },
      {
       "output_type": "stream",
       "stream": "stdout",
       "text": "\r [-----------------56%-                 ] 560 of 1000 complete in 69.6 sec"
      },
      {
       "output_type": "stream",
       "stream": "stdout",
       "text": "\r [-----------------57%-                 ] 576 of 1000 complete in 70.2 sec"
      },
      {
       "output_type": "stream",
       "stream": "stdout",
       "text": "\r [-----------------58%--                ] 588 of 1000 complete in 70.7 sec"
      },
      {
       "output_type": "stream",
       "stream": "stdout",
       "text": "\r [-----------------59%--                ] 597 of 1000 complete in 71.5 sec"
      },
      {
       "output_type": "stream",
       "stream": "stdout",
       "text": "\r [-----------------60%--                ] 602 of 1000 complete in 72.0 sec"
      },
      {
       "output_type": "stream",
       "stream": "stdout",
       "text": "\r [-----------------61%---               ] 612 of 1000 complete in 72.5 sec"
      },
      {
       "output_type": "stream",
       "stream": "stdout",
       "text": "\r [-----------------61%---               ] 618 of 1000 complete in 73.2 sec"
      },
      {
       "output_type": "stream",
       "stream": "stdout",
       "text": "\r [-----------------63%----              ] 634 of 1000 complete in 73.7 sec"
      },
      {
       "output_type": "stream",
       "stream": "stdout",
       "text": "\r [-----------------65%----              ] 650 of 1000 complete in 74.6 sec"
      },
      {
       "output_type": "stream",
       "stream": "stdout",
       "text": "\r [-----------------65%-----             ] 658 of 1000 complete in 75.5 sec"
      },
      {
       "output_type": "stream",
       "stream": "stdout",
       "text": "\r [-----------------66%-----             ] 663 of 1000 complete in 79.1 sec"
      },
      {
       "output_type": "stream",
       "stream": "stdout",
       "text": "\r [-----------------66%-----             ] 668 of 1000 complete in 83.6 sec"
      },
      {
       "output_type": "stream",
       "stream": "stdout",
       "text": "\r [-----------------68%------            ] 687 of 1000 complete in 84.1 sec"
      },
      {
       "output_type": "stream",
       "stream": "stdout",
       "text": "\r [-----------------69%------            ] 692 of 1000 complete in 91.5 sec"
      },
      {
       "output_type": "stream",
       "stream": "stdout",
       "text": "\r [-----------------69%------            ] 699 of 1000 complete in 92.0 sec"
      },
      {
       "output_type": "stream",
       "stream": "stdout",
       "text": "\r [-----------------70%------            ] 705 of 1000 complete in 92.8 sec"
      },
      {
       "output_type": "stream",
       "stream": "stdout",
       "text": "\r [-----------------70%------            ] 709 of 1000 complete in 95.0 sec"
      },
      {
       "output_type": "stream",
       "stream": "stdout",
       "text": "\r [-----------------72%-------           ] 720 of 1000 complete in 97.3 sec"
      },
      {
       "output_type": "stream",
       "stream": "stdout",
       "text": "\r [-----------------72%-------           ] 721 of 1000 complete in 100.0 sec"
      },
      {
       "output_type": "stream",
       "stream": "stdout",
       "text": "\r [-----------------73%-------           ] 732 of 1000 complete in 100.5 sec"
      },
      {
       "output_type": "stream",
       "stream": "stdout",
       "text": "\r [-----------------75%--------          ] 752 of 1000 complete in 101.0 sec"
      },
      {
       "output_type": "stream",
       "stream": "stdout",
       "text": "\r [-----------------76%--------          ] 760 of 1000 complete in 102.0 sec"
      },
      {
       "output_type": "stream",
       "stream": "stdout",
       "text": "\r [-----------------76%---------         ] 764 of 1000 complete in 113.4 sec"
      },
      {
       "output_type": "stream",
       "stream": "stdout",
       "text": "\r [-----------------76%---------         ] 765 of 1000 complete in 114.2 sec"
      },
      {
       "output_type": "stream",
       "stream": "stdout",
       "text": "\r [-----------------77%---------         ] 776 of 1000 complete in 118.1 sec"
      },
      {
       "output_type": "stream",
       "stream": "stdout",
       "text": "\r [-----------------78%---------         ] 781 of 1000 complete in 120.5 sec"
      },
      {
       "output_type": "stream",
       "stream": "stdout",
       "text": "\r [-----------------78%---------         ] 785 of 1000 complete in 121.7 sec"
      },
      {
       "output_type": "stream",
       "stream": "stdout",
       "text": "\r [-----------------80%----------        ] 800 of 1000 complete in 124.0 sec"
      },
      {
       "output_type": "stream",
       "stream": "stdout",
       "text": "\r [-----------------80%----------        ] 804 of 1000 complete in 124.8 sec"
      },
      {
       "output_type": "stream",
       "stream": "stdout",
       "text": "\r [-----------------81%-----------       ] 817 of 1000 complete in 125.3 sec"
      },
      {
       "output_type": "stream",
       "stream": "stdout",
       "text": "\r [-----------------82%-----------       ] 822 of 1000 complete in 126.0 sec"
      },
      {
       "output_type": "stream",
       "stream": "stdout",
       "text": "\r [-----------------83%-----------       ] 835 of 1000 complete in 126.5 sec"
      },
      {
       "output_type": "stream",
       "stream": "stdout",
       "text": "\r [-----------------83%-----------       ] 839 of 1000 complete in 129.2 sec"
      },
      {
       "output_type": "stream",
       "stream": "stdout",
       "text": "\r [-----------------84%-----------       ] 842 of 1000 complete in 129.9 sec"
      },
      {
       "output_type": "stream",
       "stream": "stdout",
       "text": "\r [-----------------85%------------      ] 853 of 1000 complete in 135.1 sec"
      },
      {
       "output_type": "stream",
       "stream": "stdout",
       "text": "\r [-----------------86%------------      ] 862 of 1000 complete in 135.9 sec"
      },
      {
       "output_type": "stream",
       "stream": "stdout",
       "text": "\r [-----------------88%-------------     ] 880 of 1000 complete in 136.4 sec"
      },
      {
       "output_type": "stream",
       "stream": "stdout",
       "text": "\r [-----------------90%--------------    ] 901 of 1000 complete in 137.0 sec"
      },
      {
       "output_type": "stream",
       "stream": "stdout",
       "text": "\r [-----------------92%---------------   ] 922 of 1000 complete in 137.5 sec"
      },
      {
       "output_type": "stream",
       "stream": "stdout",
       "text": "\r [-----------------92%---------------   ] 924 of 1000 complete in 142.5 sec"
      },
      {
       "output_type": "stream",
       "stream": "stdout",
       "text": "\r [-----------------94%---------------   ] 943 of 1000 complete in 143.5 sec"
      },
      {
       "output_type": "stream",
       "stream": "stdout",
       "text": "\r [-----------------94%---------------   ] 944 of 1000 complete in 146.9 sec"
      },
      {
       "output_type": "stream",
       "stream": "stdout",
       "text": "\r [-----------------94%---------------   ] 945 of 1000 complete in 150.7 sec"
      },
      {
       "output_type": "stream",
       "stream": "stdout",
       "text": "\r [-----------------96%----------------  ] 964 of 1000 complete in 151.2 sec"
      },
      {
       "output_type": "stream",
       "stream": "stdout",
       "text": "\r [-----------------96%----------------  ] 966 of 1000 complete in 154.6 sec"
      },
      {
       "output_type": "stream",
       "stream": "stdout",
       "text": "\r [-----------------98%----------------- ] 983 of 1000 complete in 155.1 sec"
      },
      {
       "output_type": "stream",
       "stream": "stdout",
       "text": "\r [-----------------100%-----------------] 1000 of 1000 complete in 155.7 sec"
      },
      {
       "output_type": "stream",
       "stream": "stdout",
       "text": "\r [-----------------100%-----------------] 1000 of 1000 complete in 155.9 sec"
      },
      {
       "output_type": "stream",
       "stream": "stdout",
       "text": "\na:\n\n  Mean             SD               MC Error         95% HPD interval\n  -------------------------------------------------------------------\n  \n  0.500            0.000            0.000            [0.500, 0.500]\n  0.500            0.000            0.000            [0.500, 0.500]\n  0.500            0.000            0.000            [0.500, 0.500]\n  0.500            0.000            0.000            [0.500, 0.500]\n  0.500            0.000            0.000            [0.500, 0.500]\n  0.500            0.000            0.000            [0.500, 0.500]\n  0.500            0.000            0.000            [0.500, 0.500]\n  0.500            0.000            0.000            [0.500, 0.500]\n  0.500            0.000            0.000            [0.500, 0.500]\n  0.500            0.000            0.000            [0.500, 0.500]\n  0.500            0.000            0.000            [0.500, 0.500]\n  0.500            0.000            0.000            [0.500, 0.500]\n  0.500            0.000            0.000            [0.500, 0.500]\n  0.500            0.000            0.000            [0.500, 0.500]\n  0.500            0.000            0.000            [0.500, 0.500]\n  0.500            0.000            0.000            [0.500, 0.500]\n  0.500            0.000            0.000            [0.500, 0.500]\n  0.500            0.000            0.000            [0.500, 0.500]\n  0.500            0.000            0.000            [0.500, 0.500]\n  0.500            0.000            0.000            [0.500, 0.500]\n  2.000            0.000            0.000            [2.000, 2.000]\n  2.000            0.000            0.000            [2.000, 2.000]\n  2.000            0.000            0.000            [2.000, 2.000]\n  2.000            0.000            0.000            [2.000, 2.000]\n  2.000            0.000            0.000            [2.000, 2.000]\n  2.000            0.000            0.000            [2.000, 2.000]\n  2.000            0.000            0.000            [2.000, 2.000]\n  2.000            0.000            0.000            [2.000, 2.000]\n  2.000            0.000            0.000            [2.000, 2.000]\n  2.000            0.000            0.000            [2.000, 2.000]\n  2.000            0.000            0.000            [2.000, 2.000]\n  2.000            0.000            0.000            [2.000, 2.000]\n  2.000            0.000            0.000            [2.000, 2.000]\n  2.000            0.000            0.000            [2.000, 2.000]\n  2.000            0.000            0.000            [2.000, 2.000]\n  2.000            0.000            0.000            [2.000, 2.000]\n  2.000            0.000            0.000            [2.000, 2.000]\n  2.000            0.000            0.000            [2.000, 2.000]\n  2.000            0.000            0.000            [2.000, 2.000]\n  2.000            0.000            0.000            [2.000, 2.000]\n\n  Posterior quantiles:\n  2.5            25             50             75             97.5\n  |--------------|==============|==============|--------------|\n  \n  0.500          0.500          0.500          0.500          0.500\n  0.500          0.500          0.500          0.500          0.500\n  0.500          0.500          0.500          0.500          0.500\n  0.500          0.500          0.500          0.500          0.500\n  0.500          0.500          0.500          0.500          0.500\n  0.500          0.500          0.500          0.500          0.500\n  0.500          0.500          0.500          0.500          0.500\n  0.500          0.500          0.500          0.500          0.500\n  0.500          0.500          0.500          0.500          0.500\n  0.500          0.500          0.500          0.500          0.500\n  0.500          0.500          0.500          0.500          0.500\n  0.500          0.500          0.500          0.500          0.500\n  0.500          0.500          0.500          0.500          0.500\n  0.500          0.500          0.500          0.500          0.500\n  0.500          0.500          0.500          0.500          0.500\n  0.500          0.500          0.500          0.500          0.500\n  0.500          0.500          0.500          0.500          0.500\n  0.500          0.500          0.500          0.500          0.500\n  0.500          0.500          0.500          0.500          0.500\n  0.500          0.500          0.500          0.500          0.500\n  2.000          2.000          2.000          2.000          2.000\n  2.000          2.000          2.000          2.000          2.000\n  2.000          2.000          2.000          2.000          2.000\n  2.000          2.000          2.000          2.000          2.000\n  2.000          2.000          2.000          2.000          2.000\n  2.000          2.000          2.000          2.000          2.000\n  2.000          2.000          2.000          2.000          2.000\n  2.000          2.000          2.000          2.000          2.000\n  2.000          2.000          2.000          2.000          2.000\n  2.000          2.000          2.000          2.000          2.000\n  2.000          2.000          2.000          2.000          2.000\n  2.000          2.000          2.000          2.000          2.000\n  2.000          2.000          2.000          2.000          2.000\n  2.000          2.000          2.000          2.000          2.000\n  2.000          2.000          2.000          2.000          2.000\n  2.000          2.000          2.000          2.000          2.000\n  2.000          2.000          2.000          2.000          2.000\n  2.000          2.000          2.000          2.000          2.000\n  2.000          2.000          2.000          2.000          2.000\n  2.000          2.000          2.000          2.000          2.000\n\n\ns_interval:\n\n  Mean             SD               MC Error         95% HPD interval\n  -------------------------------------------------------------------\n  \n  -40.247          0.000            0.000            [-40.247, -40.247]\n\n  Posterior quantiles:\n  2.5            25             50             75             97.5\n  |--------------|==============|==============|--------------|\n  \n  -40.247        -40.247        -40.247        -40.247        -40.247\n\n\ns:\n\n  Mean             SD               MC Error         95% HPD interval\n  -------------------------------------------------------------------\n  \n  0.000            0.000            0.000            [0.000, 0.000]\n\n  Posterior quantiles:\n  2.5            25             50             75             97.5\n  |--------------|==============|==============|--------------|\n  \n  0.000          0.000          0.000          0.000          0.000\n\n"
      }
     ],
     "prompt_number": 31
    },
    {
     "cell_type": "code",
     "collapsed": false,
     "input": "ah = np.mean(trace1[a],axis=0)\nprint(ah)",
     "language": "python",
     "metadata": {},
     "outputs": [
      {
       "output_type": "stream",
       "stream": "stdout",
       "text": "[ 0.5  0.5  0.5  0.5  0.5  0.5  0.5  0.5  0.5  0.5  0.5  0.5  0.5  0.5  0.5\n  0.5  0.5  0.5  0.5  0.5  2.   2.   2.   2.   2.   2.   2.   2.   2.   2.\n  2.   2.   2.   2.   2.   2.   2.   2.   2.   2. ]\n"
      }
     ],
     "prompt_number": 62
    },
    {
     "cell_type": "code",
     "collapsed": false,
     "input": "pm.traceplot(trace1)",
     "language": "python",
     "metadata": {},
     "outputs": [
      {
       "metadata": {},
       "output_type": "pyout",
       "prompt_number": 32,
       "text": "array([[<matplotlib.axes.AxesSubplot object at 0x126172D0>,\n        <matplotlib.axes.AxesSubplot object at 0x1AE9C1B0>],\n       [<matplotlib.axes.AxesSubplot object at 0x20C73530>,\n        <matplotlib.axes.AxesSubplot object at 0x20A19690>],\n       [<matplotlib.axes.AxesSubplot object at 0x21020A10>,\n        <matplotlib.axes.AxesSubplot object at 0x19294210>]], dtype=object)"
      },
      {
       "metadata": {},
       "output_type": "display_data",
       "png": "[encoded data removed]",
       "text": "<matplotlib.figure.Figure at 0x1680be30>"
      }
     ],
     "prompt_number": 32
    },
    {
     "cell_type": "code",
     "collapsed": false,
     "input": "pm.forestplot(trace1)",
     "language": "python",
     "metadata": {},
     "outputs": [
      {
       "metadata": {},
       "output_type": "pyout",
       "prompt_number": 34,
       "text": "<matplotlib.gridspec.GridSpec at 0x1c878fd0>"
      },
      {
       "metadata": {},
       "output_type": "display_data",
       "png": "[encoded data removed]",
       "text": "<matplotlib.figure.Figure at 0x1c878870>"
      }
     ],
     "prompt_number": 34
    },
    {
     "cell_type": "code",
     "collapsed": false,
     "input": "",
     "language": "python",
     "metadata": {},
     "outputs": [],
     "prompt_number": 61
    },
    {
     "cell_type": "code",
     "collapsed": false,
     "input": "",
     "language": "python",
     "metadata": {},
     "outputs": [],
     "prompt_number": 60
    },
    {
     "cell_type": "code",
     "collapsed": false,
     "input": "",
     "language": "python",
     "metadata": {},
     "outputs": [],
     "prompt_number": 47
    },
    {
     "cell_type": "code",
     "collapsed": false,
     "input": "",
     "language": "python",
     "metadata": {},
     "outputs": []
    }
   ],
   "metadata": {}
  }
 ]
}
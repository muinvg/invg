{
 "metadata": {
  "name": "pymc3 test"
 },
 "nbformat": 3,
 "nbformat_minor": 0,
 "worksheets": [
  {
   "cells": [
    {
     "cell_type": "code",
     "collapsed": false,
     "input": "import numpy as np",
     "language": "python",
     "metadata": {},
     "outputs": [],
     "prompt_number": 5
    },
    {
     "cell_type": "code",
     "collapsed": false,
     "input": "import pymc3 as pm",
     "language": "python",
     "metadata": {},
     "outputs": [],
     "prompt_number": 6
    },
    {
     "cell_type": "code",
     "collapsed": false,
     "input": "# CITATION: http://qiita.com/TomokIshii/items/a62a03a6a0456a813fa7\n# \uff11\uff0e\u30c7\u30fc\u30bf\u30bb\u30c3\u30c8\u306e\u7528\u610f\nn_betl = np.array([59, 60, 62, 56, 63, 59, 62, 60])\ny_betl = np.array([6, 13, 18, 28, 52, 53, 61, 60])\nx1 = np.array([1.6907, 1.7242, 1.7552, 1.7842,\n    1.8113, 1.8369, 1.8610, 1.8839])\n\n# \uff12\uff0e\u7d71\u8a08\u30e2\u30c7\u30eb\u306e\u8a18\u8ff0\nmymodel1 = pm.Model()\ndef invlogit(x):\n    return pm.exp(x) / (1 + pm.exp(x))\n\nwith mymodel1:  # model definition\n    mytheta = pm.Normal('theta', mu=0, sd=32, shape=2)   # 2-dim array\n    p = invlogit(mytheta[0] + mytheta[1] * x1)\n    y_obs = pm.Binomial('y_obs', n=n_betl, p=p, observed=y_betl)\n\n# \uff13\uff0eMCMC\u8a08\u7b97\nwith mymodel1:  # running simulation\n    start = pm.find_MAP()\n    step = pm.NUTS()\n    trace1 = pm.sample(10000, step, start=start)\n\n# \uff14\uff0e\u8a08\u7b97\u7d50\u679c\u51fa\u529b ... summary\u3068traceplot\npm.summary(trace1)\n",
     "language": "python",
     "metadata": {},
     "outputs": [
      {
       "output_type": "stream",
       "stream": "stdout",
       "text": "\r [                  0%                  ] 62 of 10000 complete in 0.5 sec"
      },
      {
       "output_type": "stream",
       "stream": "stdout",
       "text": "\r [                  1%                  ] 141 of 10000 complete in 1.0 sec"
      },
      {
       "output_type": "stream",
       "stream": "stdout",
       "text": "\r [                  2%                  ] 225 of 10000 complete in 1.5 sec"
      },
      {
       "output_type": "stream",
       "stream": "stdout",
       "text": "\r [-                 3%                  ] 324 of 10000 complete in 2.0 sec"
      },
      {
       "output_type": "stream",
       "stream": "stdout",
       "text": "\r [-                 4%                  ] 438 of 10000 complete in 2.5 sec"
      },
      {
       "output_type": "stream",
       "stream": "stdout",
       "text": "\r [--                5%                  ] 549 of 10000 complete in 3.0 sec"
      },
      {
       "output_type": "stream",
       "stream": "stdout",
       "text": "\r [--                6%                  ] 637 of 10000 complete in 3.6 sec"
      },
      {
       "output_type": "stream",
       "stream": "stdout",
       "text": "\r [--                7%                  ] 720 of 10000 complete in 4.1 sec"
      },
      {
       "output_type": "stream",
       "stream": "stdout",
       "text": "\r [---               8%                  ] 801 of 10000 complete in 4.6 sec"
      },
      {
       "output_type": "stream",
       "stream": "stdout",
       "text": "\r [---               8%                  ] 887 of 10000 complete in 5.1 sec"
      },
      {
       "output_type": "stream",
       "stream": "stdout",
       "text": "\r [---               9%                  ] 970 of 10000 complete in 5.6 sec"
      },
      {
       "output_type": "stream",
       "stream": "stdout",
       "text": "\r [----             10%                  ] 1070 of 10000 complete in 6.1 sec"
      },
      {
       "output_type": "stream",
       "stream": "stdout",
       "text": "\r [----             11%                  ] 1180 of 10000 complete in 6.6 sec"
      },
      {
       "output_type": "stream",
       "stream": "stdout",
       "text": "\r [----             12%                  ] 1280 of 10000 complete in 7.1 sec"
      },
      {
       "output_type": "stream",
       "stream": "stdout",
       "text": "\r [-----            13%                  ] 1379 of 10000 complete in 7.6 sec"
      },
      {
       "output_type": "stream",
       "stream": "stdout",
       "text": "\r [-----            14%                  ] 1479 of 10000 complete in 8.1 sec"
      },
      {
       "output_type": "stream",
       "stream": "stdout",
       "text": "\r [------           15%                  ] 1596 of 10000 complete in 8.6 sec"
      },
      {
       "output_type": "stream",
       "stream": "stdout",
       "text": "\r [------           16%                  ] 1693 of 10000 complete in 9.1 sec"
      },
      {
       "output_type": "stream",
       "stream": "stdout",
       "text": "\r [------           17%                  ] 1791 of 10000 complete in 9.6 sec"
      },
      {
       "output_type": "stream",
       "stream": "stdout",
       "text": "\r [-------          18%                  ] 1862 of 10000 complete in 10.1 sec"
      },
      {
       "output_type": "stream",
       "stream": "stdout",
       "text": "\r [-------          19%                  ] 1982 of 10000 complete in 10.6 sec"
      },
      {
       "output_type": "stream",
       "stream": "stdout",
       "text": "\r [-------          20%                  ] 2091 of 10000 complete in 11.1 sec"
      },
      {
       "output_type": "stream",
       "stream": "stdout",
       "text": "\r [--------         21%                  ] 2186 of 10000 complete in 11.7 sec"
      },
      {
       "output_type": "stream",
       "stream": "stdout",
       "text": "\r [--------         22%                  ] 2277 of 10000 complete in 12.2 sec"
      },
      {
       "output_type": "stream",
       "stream": "stdout",
       "text": "\r [---------        23%                  ] 2371 of 10000 complete in 12.7 sec"
      },
      {
       "output_type": "stream",
       "stream": "stdout",
       "text": "\r [---------        24%                  ] 2482 of 10000 complete in 13.2 sec"
      },
      {
       "output_type": "stream",
       "stream": "stdout",
       "text": "\r [---------        25%                  ] 2569 of 10000 complete in 13.7 sec"
      },
      {
       "output_type": "stream",
       "stream": "stdout",
       "text": "\r [----------       26%                  ] 2662 of 10000 complete in 14.2 sec"
      },
      {
       "output_type": "stream",
       "stream": "stdout",
       "text": "\r [----------       27%                  ] 2749 of 10000 complete in 14.7 sec"
      },
      {
       "output_type": "stream",
       "stream": "stdout",
       "text": "\r [----------       28%                  ] 2840 of 10000 complete in 15.2 sec"
      },
      {
       "output_type": "stream",
       "stream": "stdout",
       "text": "\r [-----------      29%                  ] 2974 of 10000 complete in 15.7 sec"
      },
      {
       "output_type": "stream",
       "stream": "stdout",
       "text": "\r [-----------      30%                  ] 3061 of 10000 complete in 16.2 sec"
      },
      {
       "output_type": "stream",
       "stream": "stdout",
       "text": "\r [-----------      31%                  ] 3147 of 10000 complete in 16.7 sec"
      },
      {
       "output_type": "stream",
       "stream": "stdout",
       "text": "\r [------------     32%                  ] 3239 of 10000 complete in 17.2 sec"
      },
      {
       "output_type": "stream",
       "stream": "stdout",
       "text": "\r [------------     33%                  ] 3343 of 10000 complete in 17.7 sec"
      },
      {
       "output_type": "stream",
       "stream": "stdout",
       "text": "\r [-------------    34%                  ] 3442 of 10000 complete in 18.2 sec"
      },
      {
       "output_type": "stream",
       "stream": "stdout",
       "text": "\r [-------------    35%                  ] 3537 of 10000 complete in 18.8 sec"
      },
      {
       "output_type": "stream",
       "stream": "stdout",
       "text": "\r [-------------    36%                  ] 3627 of 10000 complete in 19.3 sec"
      },
      {
       "output_type": "stream",
       "stream": "stdout",
       "text": "\r [--------------   37%                  ] 3718 of 10000 complete in 19.8 sec"
      },
      {
       "output_type": "stream",
       "stream": "stdout",
       "text": "\r [--------------   38%                  ] 3817 of 10000 complete in 20.3 sec"
      },
      {
       "output_type": "stream",
       "stream": "stdout",
       "text": "\r [--------------   39%                  ] 3918 of 10000 complete in 20.8 sec"
      },
      {
       "output_type": "stream",
       "stream": "stdout",
       "text": "\r [---------------  40%                  ] 4007 of 10000 complete in 21.3 sec"
      },
      {
       "output_type": "stream",
       "stream": "stdout",
       "text": "\r [---------------  41%                  ] 4111 of 10000 complete in 21.8 sec"
      },
      {
       "output_type": "stream",
       "stream": "stdout",
       "text": "\r [---------------- 42%                  ] 4227 of 10000 complete in 22.3 sec"
      },
      {
       "output_type": "stream",
       "stream": "stdout",
       "text": "\r [---------------- 43%                  ] 4321 of 10000 complete in 22.8 sec"
      },
      {
       "output_type": "stream",
       "stream": "stdout",
       "text": "\r [---------------- 44%                  ] 4417 of 10000 complete in 23.3 sec"
      },
      {
       "output_type": "stream",
       "stream": "stdout",
       "text": "\r [-----------------45%                  ] 4500 of 10000 complete in 23.8 sec"
      },
      {
       "output_type": "stream",
       "stream": "stdout",
       "text": "\r [-----------------46%                  ] 4600 of 10000 complete in 24.3 sec"
      },
      {
       "output_type": "stream",
       "stream": "stdout",
       "text": "\r [-----------------46%                  ] 4698 of 10000 complete in 24.8 sec"
      },
      {
       "output_type": "stream",
       "stream": "stdout",
       "text": "\r [-----------------47%                  ] 4797 of 10000 complete in 25.3 sec"
      },
      {
       "output_type": "stream",
       "stream": "stdout",
       "text": "\r [-----------------48%                  ] 4880 of 10000 complete in 25.8 sec"
      },
      {
       "output_type": "stream",
       "stream": "stdout",
       "text": "\r [-----------------49%                  ] 4969 of 10000 complete in 26.4 sec"
      },
      {
       "output_type": "stream",
       "stream": "stdout",
       "text": "\r [-----------------50%                  ] 5072 of 10000 complete in 26.9 sec"
      },
      {
       "output_type": "stream",
       "stream": "stdout",
       "text": "\r [-----------------51%                  ] 5171 of 10000 complete in 27.4 sec"
      },
      {
       "output_type": "stream",
       "stream": "stdout",
       "text": "\r [-----------------52%                  ] 5267 of 10000 complete in 27.9 sec"
      },
      {
       "output_type": "stream",
       "stream": "stdout",
       "text": "\r [-----------------53%                  ] 5369 of 10000 complete in 28.4 sec"
      },
      {
       "output_type": "stream",
       "stream": "stdout",
       "text": "\r [-----------------54%                  ] 5466 of 10000 complete in 28.9 sec"
      },
      {
       "output_type": "stream",
       "stream": "stdout",
       "text": "\r [-----------------55%-                 ] 5582 of 10000 complete in 29.4 sec"
      },
      {
       "output_type": "stream",
       "stream": "stdout",
       "text": "\r [-----------------56%-                 ] 5675 of 10000 complete in 29.9 sec"
      },
      {
       "output_type": "stream",
       "stream": "stdout",
       "text": "\r [-----------------57%-                 ] 5781 of 10000 complete in 30.4 sec"
      },
      {
       "output_type": "stream",
       "stream": "stdout",
       "text": "\r [-----------------58%--                ] 5877 of 10000 complete in 30.9 sec"
      },
      {
       "output_type": "stream",
       "stream": "stdout",
       "text": "\r [-----------------59%--                ] 5966 of 10000 complete in 31.4 sec"
      },
      {
       "output_type": "stream",
       "stream": "stdout",
       "text": "\r [-----------------60%---               ] 6053 of 10000 complete in 31.9 sec"
      },
      {
       "output_type": "stream",
       "stream": "stdout",
       "text": "\r [-----------------61%---               ] 6158 of 10000 complete in 32.5 sec"
      },
      {
       "output_type": "stream",
       "stream": "stdout",
       "text": "\r [-----------------62%---               ] 6257 of 10000 complete in 33.0 sec"
      },
      {
       "output_type": "stream",
       "stream": "stdout",
       "text": "\r [-----------------63%----              ] 6383 of 10000 complete in 33.5 sec"
      },
      {
       "output_type": "stream",
       "stream": "stdout",
       "text": "\r [-----------------64%----              ] 6465 of 10000 complete in 34.0 sec"
      },
      {
       "output_type": "stream",
       "stream": "stdout",
       "text": "\r [-----------------65%----              ] 6547 of 10000 complete in 34.5 sec"
      },
      {
       "output_type": "stream",
       "stream": "stdout",
       "text": "\r [-----------------66%-----             ] 6645 of 10000 complete in 35.0 sec"
      },
      {
       "output_type": "stream",
       "stream": "stdout",
       "text": "\r [-----------------67%-----             ] 6743 of 10000 complete in 35.5 sec"
      },
      {
       "output_type": "stream",
       "stream": "stdout",
       "text": "\r [-----------------68%-----             ] 6822 of 10000 complete in 36.0 sec"
      },
      {
       "output_type": "stream",
       "stream": "stdout",
       "text": "\r [-----------------69%------            ] 6944 of 10000 complete in 36.5 sec"
      },
      {
       "output_type": "stream",
       "stream": "stdout",
       "text": "\r [-----------------70%------            ] 7023 of 10000 complete in 37.0 sec"
      },
      {
       "output_type": "stream",
       "stream": "stdout",
       "text": "\r [-----------------71%-------           ] 7114 of 10000 complete in 37.5 sec"
      },
      {
       "output_type": "stream",
       "stream": "stdout",
       "text": "\r [-----------------72%-------           ] 7204 of 10000 complete in 38.0 sec"
      },
      {
       "output_type": "stream",
       "stream": "stdout",
       "text": "\r [-----------------72%-------           ] 7295 of 10000 complete in 38.5 sec"
      },
      {
       "output_type": "stream",
       "stream": "stdout",
       "text": "\r [-----------------74%--------          ] 7403 of 10000 complete in 39.0 sec"
      },
      {
       "output_type": "stream",
       "stream": "stdout",
       "text": "\r [-----------------75%--------          ] 7512 of 10000 complete in 39.5 sec"
      },
      {
       "output_type": "stream",
       "stream": "stdout",
       "text": "\r [-----------------76%--------          ] 7602 of 10000 complete in 40.1 sec"
      },
      {
       "output_type": "stream",
       "stream": "stdout",
       "text": "\r [-----------------76%---------         ] 7690 of 10000 complete in 40.6 sec"
      },
      {
       "output_type": "stream",
       "stream": "stdout",
       "text": "\r [-----------------77%---------         ] 7791 of 10000 complete in 41.1 sec"
      },
      {
       "output_type": "stream",
       "stream": "stdout",
       "text": "\r [-----------------78%---------         ] 7889 of 10000 complete in 41.6 sec"
      },
      {
       "output_type": "stream",
       "stream": "stdout",
       "text": "\r [-----------------79%----------        ] 7978 of 10000 complete in 42.1 sec"
      },
      {
       "output_type": "stream",
       "stream": "stdout",
       "text": "\r [-----------------80%----------        ] 8062 of 10000 complete in 42.6 sec"
      },
      {
       "output_type": "stream",
       "stream": "stdout",
       "text": "\r [-----------------81%-----------       ] 8160 of 10000 complete in 43.1 sec"
      },
      {
       "output_type": "stream",
       "stream": "stdout",
       "text": "\r [-----------------82%-----------       ] 8242 of 10000 complete in 43.6 sec"
      },
      {
       "output_type": "stream",
       "stream": "stdout",
       "text": "\r [-----------------83%-----------       ] 8342 of 10000 complete in 44.1 sec"
      },
      {
       "output_type": "stream",
       "stream": "stdout",
       "text": "\r [-----------------84%------------      ] 8443 of 10000 complete in 44.6 sec"
      },
      {
       "output_type": "stream",
       "stream": "stdout",
       "text": "\r [-----------------85%------------      ] 8555 of 10000 complete in 45.1 sec"
      },
      {
       "output_type": "stream",
       "stream": "stdout",
       "text": "\r [-----------------86%------------      ] 8656 of 10000 complete in 45.6 sec"
      },
      {
       "output_type": "stream",
       "stream": "stdout",
       "text": "\r [-----------------87%-------------     ] 8782 of 10000 complete in 46.1 sec"
      },
      {
       "output_type": "stream",
       "stream": "stdout",
       "text": "\r [-----------------88%-------------     ] 8886 of 10000 complete in 46.7 sec"
      },
      {
       "output_type": "stream",
       "stream": "stdout",
       "text": "\r [-----------------89%-------------     ] 8947 of 10000 complete in 47.2 sec"
      },
      {
       "output_type": "stream",
       "stream": "stdout",
       "text": "\r [-----------------90%--------------    ] 9036 of 10000 complete in 47.7 sec"
      },
      {
       "output_type": "stream",
       "stream": "stdout",
       "text": "\r [-----------------91%--------------    ] 9124 of 10000 complete in 48.2 sec"
      },
      {
       "output_type": "stream",
       "stream": "stdout",
       "text": "\r [-----------------92%---------------   ] 9241 of 10000 complete in 48.7 sec"
      },
      {
       "output_type": "stream",
       "stream": "stdout",
       "text": "\r [-----------------93%---------------   ] 9341 of 10000 complete in 49.2 sec"
      },
      {
       "output_type": "stream",
       "stream": "stdout",
       "text": "\r [-----------------94%---------------   ] 9453 of 10000 complete in 49.7 sec"
      },
      {
       "output_type": "stream",
       "stream": "stdout",
       "text": "\r [-----------------95%----------------  ] 9535 of 10000 complete in 50.2 sec"
      },
      {
       "output_type": "stream",
       "stream": "stdout",
       "text": "\r [-----------------96%----------------  ] 9612 of 10000 complete in 50.7 sec"
      },
      {
       "output_type": "stream",
       "stream": "stdout",
       "text": "\r [-----------------97%----------------  ] 9709 of 10000 complete in 51.2 sec"
      },
      {
       "output_type": "stream",
       "stream": "stdout",
       "text": "\r [-----------------97%----------------- ] 9798 of 10000 complete in 51.7 sec"
      },
      {
       "output_type": "stream",
       "stream": "stdout",
       "text": "\r [-----------------98%----------------- ] 9884 of 10000 complete in 52.2 sec"
      },
      {
       "output_type": "stream",
       "stream": "stdout",
       "text": "\r [-----------------99%----------------- ] 9977 of 10000 complete in 52.8 sec"
      },
      {
       "output_type": "stream",
       "stream": "stdout",
       "text": "\r [-----------------100%-----------------] 10000 of 10000 complete in 52.9 sec"
      },
      {
       "output_type": "stream",
       "stream": "stdout",
       "text": "\ntheta:\n\n  Mean             SD               MC Error         95% HPD interval\n  -------------------------------------------------------------------\n  \n  -59.247          4.874            0.125            [-68.692, -49.691]\n  33.445           2.739            0.070            [28.061, 38.742]\n\n  Posterior quantiles:\n  2.5            25             50             75             97.5\n  |--------------|==============|==============|--------------|\n  \n  -69.172        -62.477        -59.098        -55.848        -50.083\n  28.296         31.542         33.360         35.255         39.025\n\n"
      }
     ],
     "prompt_number": 43
    },
    {
     "cell_type": "code",
     "collapsed": false,
     "input": "pm.traceplot(trace1)",
     "language": "python",
     "metadata": {},
     "outputs": [
      {
       "metadata": {},
       "output_type": "pyout",
       "prompt_number": 44,
       "text": "array([[<matplotlib.axes.AxesSubplot object at 0x11758DD0>,\n        <matplotlib.axes.AxesSubplot object at 0x16455030>]], dtype=object)"
      },
      {
       "metadata": {},
       "output_type": "display_data",
       "png": "[encoded data removed]",
       "text": "<matplotlib.figure.Figure at 0xe626cf0>"
      }
     ],
     "prompt_number": 44
    },
    {
     "cell_type": "code",
     "collapsed": false,
     "input": "import matplotlib.pyplot as plt\n%matplotlib inline",
     "language": "python",
     "metadata": {},
     "outputs": [],
     "prompt_number": 8
    },
    {
     "cell_type": "code",
     "collapsed": false,
     "input": "pd = y_betl\ntmp = -60+34*x1\nph = 1.0*n_betl * np.exp(tmp)/(1+np.exp(tmp))\nphd = np.column_stack([pd.T,ph.T])",
     "language": "python",
     "metadata": {},
     "outputs": [],
     "prompt_number": 45
    },
    {
     "cell_type": "code",
     "collapsed": false,
     "input": "plt.plot(x1,phd)",
     "language": "python",
     "metadata": {},
     "outputs": [
      {
       "metadata": {},
       "output_type": "pyout",
       "prompt_number": 46,
       "text": "[<matplotlib.lines.Line2D at 0x15be2210>,\n <matplotlib.lines.Line2D at 0x155b6ed0>]"
      },
      {
       "metadata": {},
       "output_type": "display_data",
       "png": "[encoded data removed]",
       "text": "<matplotlib.figure.Figure at 0x16506070>"
      }
     ],
     "prompt_number": 46
    },
    {
     "cell_type": "code",
     "collapsed": false,
     "input": "import pandas as pd",
     "language": "python",
     "metadata": {},
     "outputs": [],
     "prompt_number": 47
    },
    {
     "cell_type": "code",
     "collapsed": false,
     "input": "",
     "language": "python",
     "metadata": {},
     "outputs": []
    }
   ],
   "metadata": {}
  }
 ]
}